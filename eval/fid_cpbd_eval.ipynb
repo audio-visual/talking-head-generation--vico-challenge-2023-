{
 "cells": [
  {
   "attachments": {},
   "cell_type": "markdown",
   "metadata": {},
   "source": [
    "**Import packages**"
   ]
  },
  {
   "cell_type": "code",
   "execution_count": 1,
   "metadata": {},
   "outputs": [
    {
     "name": "stderr",
     "output_type": "stream",
     "text": [
      "/usr/local/miniconda3/envs/sadtalker/lib/python3.8/site-packages/tqdm/auto.py:21: TqdmWarning: IProgress not found. Please update jupyter and ipywidgets. See https://ipywidgets.readthedocs.io/en/stable/user_install.html\n",
      "  from .autonotebook import tqdm as notebook_tqdm\n"
     ]
    }
   ],
   "source": [
    "import cv2 \n",
    "import numpy as np \n",
    "import torch \n",
    "import imageio\n",
    "from face_enhancer import enhancer_generator_with_len, enhancer_list"
   ]
  },
  {
   "attachments": {},
   "cell_type": "markdown",
   "metadata": {},
   "source": [
    "**Define useful function**"
   ]
  },
  {
   "cell_type": "code",
   "execution_count": 2,
   "metadata": {},
   "outputs": [],
   "source": [
    "def read_mp4(input_fn, to_rgb=False, to_gray=False, to_nchw=False):\n",
    "    frames = []\n",
    "    cap = cv2.VideoCapture(input_fn)\n",
    "    while True:\n",
    "        ret, frame = cap.read()\n",
    "        if not ret:\n",
    "            break\n",
    "        if to_rgb:\n",
    "            frame = cv2.cvtColor(frame, cv2.COLOR_BGR2RGB)\n",
    "        if to_gray:\n",
    "            frame = cv2.cvtColor(frame, cv2.COLOR_BGR2GRAY)\n",
    "        frames.append(frame)\n",
    "    cap.release()\n",
    "    frames = np.stack(frames)\n",
    "    if to_nchw:\n",
    "        frames = np.transpose(frames, (0, 3, 1, 2))\n",
    "    return frames"
   ]
  },
  {
   "attachments": {},
   "cell_type": "markdown",
   "metadata": {},
   "source": [
    "**Read the original videos**"
   ]
  },
  {
   "cell_type": "code",
   "execution_count": 3,
   "metadata": {},
   "outputs": [],
   "source": [
    "original_video_path = './data/faafeee171254fbfb66b42154dda35e4.speaker.mp4' # just an exmaple\n",
    "enhanced_video_path = './data/faafeee171254fbfb66b42154dda35e4.speaker.enahnced.mp4'"
   ]
  },
  {
   "attachments": {},
   "cell_type": "markdown",
   "metadata": {},
   "source": [
    "**Enhance images**"
   ]
  },
  {
   "cell_type": "code",
   "execution_count": 4,
   "metadata": {},
   "outputs": [
    {
     "name": "stdout",
     "output_type": "stream",
     "text": [
      "face enhancer....\n",
      "model_path /hy-tmp/checkpoints/gfpgan/weights/GFPGANv1.4.pth\n"
     ]
    },
    {
     "name": "stderr",
     "output_type": "stream",
     "text": [
      "/usr/local/miniconda3/envs/sadtalker/lib/python3.8/site-packages/torchvision/models/_utils.py:208: UserWarning: The parameter 'pretrained' is deprecated since 0.13 and will be removed in 0.15, please use 'weights' instead.\n",
      "  warnings.warn(\n",
      "/usr/local/miniconda3/envs/sadtalker/lib/python3.8/site-packages/torchvision/models/_utils.py:223: UserWarning: Arguments other than a weight enum or `None` for 'weights' are deprecated since 0.13 and will be removed in 0.15. The current behavior is equivalent to passing `weights=None`.\n",
      "  warnings.warn(msg)\n",
      "Face Enhancer:: 100%|██████████| 30/30 [00:09<00:00,  3.24it/s]\n"
     ]
    }
   ],
   "source": [
    "enhancer = 'gfpgan'\n",
    "background_enhancer = None\n",
    "try:\n",
    "    enhanced_images_gen_with_len = enhancer_generator_with_len(original_video_path, method=enhancer, bg_upsampler=background_enhancer)\n",
    "    # the fps in the train/test videos is 25\n",
    "    imageio.mimsave(enhanced_video_path, enhanced_images_gen_with_len, fps=float(30))\n",
    "except:\n",
    "    enhanced_images_gen_with_len = enhancer_list(original_video_path, method=enhancer, bg_upsampler=background_enhancer)\n",
    "    imageio.mimsave(enhanced_video_path, enhanced_images_gen_with_len, fps=float(30))"
   ]
  },
  {
   "cell_type": "markdown",
   "metadata": {},
   "source": []
  },
  {
   "attachments": {},
   "cell_type": "markdown",
   "metadata": {},
   "source": [
    "**compare the FID between the original one and the enahnced one**"
   ]
  },
  {
   "cell_type": "code",
   "execution_count": 11,
   "metadata": {},
   "outputs": [
    {
     "name": "stdout",
     "output_type": "stream",
     "text": [
      "WARNING: default feature extractor (InceptionNet V2) is used.\n"
     ]
    },
    {
     "name": "stderr",
     "output_type": "stream",
     "text": [
      "/usr/local/miniconda3/envs/sadtalker/lib/python3.8/site-packages/torchvision/models/_utils.py:208: UserWarning: The parameter 'pretrained' is deprecated since 0.13 and will be removed in 0.15, please use 'weights' instead.\n",
      "  warnings.warn(\n",
      "/usr/local/miniconda3/envs/sadtalker/lib/python3.8/site-packages/torchvision/models/_utils.py:223: UserWarning: Arguments other than a weight enum or `None` for 'weights' are deprecated since 0.13 and will be removed in 0.15. The current behavior is equivalent to passing `weights=None`.\n",
      "  warnings.warn(msg)\n",
      "/usr/local/miniconda3/envs/sadtalker/lib/python3.8/site-packages/torchvision/models/inception.py:43: FutureWarning: The default weight initialization of inception_v3 will be changed in future releases of torchvision. If you wish to keep the old behavior (which leads to long initialization times due to scipy/scipy#11299), please set init_weights=True.\n",
      "  warnings.warn(\n"
     ]
    },
    {
     "name": "stdout",
     "output_type": "stream",
     "text": [
      "fid (enhanced-origin): 15.791654402745792\n",
      "fid (enhanced-enhanced): 0.0340112991321746\n",
      "fid (origin-origin): 0.028985544586831224\n"
     ]
    }
   ],
   "source": [
    "from piq import FID\n",
    "\n",
    "fid_metric = FID()\n",
    "gt_feats = []\n",
    "pd_feats = []\n",
    "\n",
    "gt_frames = read_mp4(original_video_path, True, False, True)\n",
    "pd_frames = read_mp4(enhanced_video_path, True, False, True)\n",
    "\n",
    "gt_frames = torch.from_numpy(gt_frames).float() / 255.\n",
    "pd_frames = torch.from_numpy(pd_frames).float() / 255.\n",
    "\n",
    "T = gt_frames.size(0)\n",
    "total_images = torch.cat((gt_frames, pd_frames), 0)\n",
    "# if len(total_images) > args.batch_size:\n",
    "#     total_images = torch.split(total_images, args.batch_size, 0)\n",
    "# else:\n",
    "total_images = [total_images]\n",
    "\n",
    "total_feats = []\n",
    "for sub_images in total_images:\n",
    "    feats = fid_metric.compute_feats([\n",
    "        {'images': sub_images},\n",
    "    ])\n",
    "    feats = feats.detach().cpu()\n",
    "    total_feats.append(feats)\n",
    "total_feats = torch.cat(total_feats, 0)\n",
    "gt_feat, pd_feat = torch.split(total_feats, (T, T), 0)\n",
    "\n",
    "gt_feats.append(gt_feat.numpy())\n",
    "pd_feats.append(pd_feat.numpy())\n",
    "\n",
    "gt_feats = torch.from_numpy(np.concatenate(gt_feats, 0))\n",
    "pd_feats = torch.from_numpy(np.concatenate(pd_feats, 0))\n",
    "print('fid (enhanced-origin):', fid_metric.compute_metric(pd_feats, gt_feats).item())\n",
    "print('fid (enhanced-enhanced):', fid_metric.compute_metric(pd_feats, pd_feats).item())\n",
    "print('fid (origin-origin):', fid_metric.compute_metric(gt_feats, gt_feats).item())"
   ]
  },
  {
   "attachments": {},
   "cell_type": "markdown",
   "metadata": {},
   "source": [
    "**compare the CPBD between the original one and the enahnced one**"
   ]
  },
  {
   "cell_type": "code",
   "execution_count": 18,
   "metadata": {},
   "outputs": [
    {
     "name": "stdout",
     "output_type": "stream",
     "text": [
      "cpbd origin: 0.13508757209224612\n",
      "cpbd enahnced: 0.18875182889610936\n"
     ]
    }
   ],
   "source": [
    "import cpbd \n",
    "# cpbd would have imread problem, I solved this according to  https://github.com/0x64746b/python-cpbd/issues/2#issuecomment-1271743131\n",
    "import tqdm \n",
    "gt_frames = read_mp4(original_video_path, False, True, False) # read gray image\n",
    "\n",
    "cpbd_value = [cpbd.compute(frame) for frame in gt_frames]\n",
    "print('cpbd origin:', np.array(cpbd_value).mean())\n",
    "\n",
    "pd_frames = read_mp4(enhanced_video_path, False, True, False)\n",
    "\n",
    "cpbd_value = [cpbd.compute(frame) for frame in pd_frames]\n",
    "print('cpbd enahnced:', np.array(cpbd_value).mean())"
   ]
  },
  {
   "cell_type": "code",
   "execution_count": null,
   "metadata": {},
   "outputs": [],
   "source": []
  }
 ],
 "metadata": {
  "kernelspec": {
   "display_name": "sadtalker",
   "language": "python",
   "name": "python3"
  },
  "language_info": {
   "codemirror_mode": {
    "name": "ipython",
    "version": 3
   },
   "file_extension": ".py",
   "mimetype": "text/x-python",
   "name": "python",
   "nbconvert_exporter": "python",
   "pygments_lexer": "ipython3",
   "version": "3.8.16"
  },
  "orig_nbformat": 4
 },
 "nbformat": 4,
 "nbformat_minor": 2
}
